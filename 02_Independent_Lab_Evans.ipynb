{
 "cells": [
  {
   "cell_type": "code",
   "execution_count": 14,
   "id": "8bfc0c63-089d-48d2-abc6-8805b0bbe72f",
   "metadata": {},
   "outputs": [
    {
     "name": "stdout",
     "output_type": "stream",
     "text": [
      "Welcome to my Temperature Converter for the Graduate Introduction to Python course in the Masters of Science in Business Analytics Program where we learn the fundamentals of Python programming language. My name is Hali Evans and I will be completing the 02_Independent_Lab_Temp_Conversion assignment by March 10, 2025\n"
     ]
    },
    {
     "name": "stdin",
     "output_type": "stream",
     "text": [
      "Please provide a value, in Celsius, to convert:\n",
      " 37\n"
     ]
    },
    {
     "name": "stdout",
     "output_type": "stream",
     "text": [
      "37.0 degrees celcius is 98.60000000000001 degrees fahrenheit\n",
      "98\n",
      "<class 'int'>\n"
     ]
    }
   ],
   "source": [
    "# Course Info\n",
    "course_name = \"Graduate Introduction to Python\"\n",
    "grad_prog_name = \"Masters of Science in Business Analytics Program\"\n",
    "course_desc = \"learn the fundamentals of Python programming language\"\n",
    "\n",
    "# Assign Name\n",
    "assign_name = \"02_Independent_Lab_Temp_Conversion\"\n",
    "\n",
    "# Notebook Author Name\n",
    "author_name = \"Hali Evans\"\n",
    "\n",
    "# Submission Date\n",
    "sub_date = \"March 10, 2025\"\n",
    "\n",
    "# Welcome Message\n",
    "welcome_message = \"Welcome to my Temperature Converter\"\n",
    "\n",
    "print(f\"{welcome_message} for the {course_name} course in the {grad_prog_name} where we {course_desc}. My name is {author_name} and I will be completing the {assign_name} assignment by {sub_date}\")\n",
    "\n",
    "# Step 1\n",
    "celcius = 0.0\n",
    "fahrenheit = 0.0\n",
    "\n",
    "# Step 2\n",
    "# Value Input Prompt\n",
    "celcius = float(input(\"Please provide a value, in Celsius, to convert:\\n\")) # Float function chosen to provide more accurate temperature as it includes decimal places.\n",
    "\n",
    "# Step 3\n",
    "# Celcius to Fahrenheit Conversion\n",
    "fahrenheit = (9/5)*celcius + 32\n",
    "\n",
    "# Step 4\n",
    "# Output\n",
    "print(f\"{celcius} degrees celcius is {fahrenheit} degrees fahrenheit\")\n",
    "\n",
    "# Step 5\n",
    "# Type Conversion\n",
    "int_fahrenheit = int(fahrenheit)\n",
    "print(int_fahrenheit)\n",
    "print(type(int_fahrenheit))\n"
   ]
  },
  {
   "cell_type": "code",
   "execution_count": null,
   "id": "2a242249-43e1-4e08-8a3d-cd560f93868e",
   "metadata": {},
   "outputs": [],
   "source": []
  }
 ],
 "metadata": {
  "kernelspec": {
   "display_name": "Python [conda env:base] *",
   "language": "python",
   "name": "conda-base-py"
  },
  "language_info": {
   "codemirror_mode": {
    "name": "ipython",
    "version": 3
   },
   "file_extension": ".py",
   "mimetype": "text/x-python",
   "name": "python",
   "nbconvert_exporter": "python",
   "pygments_lexer": "ipython3",
   "version": "3.12.7"
  }
 },
 "nbformat": 4,
 "nbformat_minor": 5
}
